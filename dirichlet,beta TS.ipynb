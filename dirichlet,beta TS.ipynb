{
 "cells": [
  {
   "cell_type": "code",
   "execution_count": 1,
   "metadata": {},
   "outputs": [],
   "source": [
    "import matplotlib.pyplot as plt\n",
    "import numpy as np\n",
    "from itertools import cycle"
   ]
  },
  {
   "cell_type": "code",
   "execution_count": 2,
   "metadata": {},
   "outputs": [],
   "source": [
    "class ThompsonSampling:\n",
    "    def __init__(self, contents_ctr):\n",
    "        \"\"\"\n",
    "        contents_ctr : [[0.1, 0.3, 0.3,0.1, ],[0.55, 0.9, 0.7],[0.8, 0.3, 0.4, 0.1]]\n",
    "        \"\"\"\n",
    "        self.length = sum(len(ctr) for ctr in contents_ctr)\n",
    "        self.gt = np.concatenate(contents_ctr)\n",
    "        self.split(contents_ctr)\n",
    "        \n",
    "    def split(self, contents_ctr):\n",
    "        contents_ctr = [np.array(c) for c in contents_ctr]\n",
    "        self.contents_ctr = contents_ctr[0]\n",
    "        self.norm_contents_ctr = self.normalize(self.contents_ctr)\n",
    "        self.cans_ctr = contents_ctr[1:]\n",
    "        \n",
    "    def initalize(self):\n",
    "        self.candidates = [*range(len(self.contents_ctr))]\n",
    "        self.time_decays = {i:1 for i in range(self.length)}\n",
    "        self.cluster_idx = [len(self.contents_ctr)]\n",
    "        self.selected = [0]*len(self.candidates)\n",
    "        \n",
    "    def normalize(self, ctr):\n",
    "        return ctr / sum(ctr)\n",
    "    \n",
    "    def cluster_decay(self):\n",
    "        pass\n",
    "        \n",
    "    def time_decay(self):\n",
    "        for i in range(len(self.contents_ctr)):\n",
    "            self.time_decays[i] += 1\n",
    "            \n",
    "    def updated_arms(self):\n",
    "        pass\n",
    "    \n",
    "    def add_new_cluster(self):\n",
    "        pass\n",
    "\n",
    "    def run(self, iteration = 100):\n",
    "        self.initalize()\n",
    "        \n",
    "        grid_size = 3\n",
    "        x = 0\n",
    "        ploted = 0\n",
    "        fig, ax = plt.subplots(grid_size, grid_size, figsize = (8,6))\n",
    "        sec = int(iteration/grid_size)\n",
    "        circle = cycle(range(grid_size))\n",
    "        \n",
    "        for i in range(iteration):\n",
    "            \n",
    "            self.updated_arms(i)\n",
    "            \n",
    "            if i % (sec//grid_size) == 0:\n",
    "                y = next(circle)\n",
    "                ax[x,y].bar(self.candidates, self.selected)\n",
    "\n",
    "                if x == 0:\n",
    "                    ax[x,y].set_title(f\"{i}'th iter\")\n",
    "                else:\n",
    "                    ax[x,y].set_title(f\"{x+1}'th cans added {i}'th iter\")\n",
    "                    \n",
    "                ploted += 1\n",
    "                if ploted * (x+1) == grid_size**2:\n",
    "                    break\n",
    "                if ploted == grid_size:\n",
    "                    x += 1\n",
    "                    ploted = 0\n",
    "                    self.add_new_cluster()\n",
    "                    \n",
    "        print(self.norm_contents_ctr)\n",
    "        selected = np.array(self.selected)\n",
    "        print(selected/sum(selected))\n",
    "        plt.show()"
   ]
  },
  {
   "cell_type": "markdown",
   "metadata": {},
   "source": [
    "### Dirichlet TS"
   ]
  },
  {
   "cell_type": "code",
   "execution_count": 5,
   "metadata": {},
   "outputs": [],
   "source": [
    "class DirichletThompsonSampling(ThompsonSampling):\n",
    "    def __init__(self, contents_ctr):\n",
    "        super().__init__(contents_ctr)\n",
    "        self.prior = np.ones_like(self.contents_ctr)\n",
    "\n",
    "    def cluster_decay(self, updated_prior):\n",
    "        curr_cluster = 0\n",
    "        cluster_decay_factor= pow(10., len(self.cluster_idx))\n",
    "\n",
    "        for item in range(len(updated_prior)):\n",
    "\n",
    "            if item >= self.cluster_idx[curr_cluster]:\n",
    "                cluster_decay_factor /= 10.\n",
    "                curr_cluster += 1\n",
    "\n",
    "            updated_prior[item] /= self.time_decays[item] * cluster_decay_factor\n",
    "            \n",
    "        return updated_prior\n",
    "    \n",
    "    def draw(self, prior):\n",
    "        recommend = np.random.dirichlet(prior, 1)\n",
    "        res = recommend[0].argsort()[::-1]\n",
    "        \n",
    "        return res\n",
    "            \n",
    "    def updated_arms(self, iteration, topk = 3):\n",
    "        updated_prior = np.copy(self.prior)\n",
    "        \n",
    "        self.cluster_decay(updated_prior)\n",
    "        \n",
    "        res = self.draw(updated_prior)         \n",
    "        for k in range(topk):\n",
    "            self.selected[res[k]] += 1\n",
    "\n",
    "        click = np.random.choice(self.candidates, p = self.norm_contents_ctr)\n",
    "        self.prior[click] += 1\n",
    "\n",
    "        self.time_decay()\n",
    "        \n",
    "        if iteration%10000 == 0:\n",
    "            print('topk : ', res)\n",
    "    \n",
    "    def add_new_cluster(self):\n",
    "        candidates = self.cans_ctr.pop(0)\n",
    "        self.contents_ctr = np.concatenate([self.contents_ctr, candidates])\n",
    "        self.prior = np.concatenate([self.prior, np.ones_like(candidates)])\n",
    "        self.selected = np.concatenate([self.selected, np.zeros_like(candidates)])\n",
    "        self.candidates = list(range(len(self.contents_ctr)))\n",
    "        self.norm_contents_ctr = self.normalize(self.contents_ctr)\n",
    "        self.cluster_idx.append(len(self.contents_ctr))"
   ]
  },
  {
   "cell_type": "markdown",
   "metadata": {},
   "source": [
    "#### res"
   ]
  },
  {
   "cell_type": "code",
   "execution_count": 6,
   "metadata": {},
   "outputs": [
    {
     "name": "stdout",
     "output_type": "stream",
     "text": [
      "topk :  [0 1 3 2]\n",
      "topk :  [1 2 0 3]\n",
      "topk :  [1 3 2 0]\n",
      "topk :  [5 4 6 2 1 3 0]\n",
      "topk :  [4 5 6 2 1 3 0]\n",
      "topk :  [5 4 6 0 2 3 1]\n",
      "topk :  [ 4  8  7  9  6  2  5 10  3  1  0]\n",
      "topk :  [ 9  7  8  4 10  5  6  3  2  1  0]\n",
      "topk :  [ 6  5  7  8  9  4 10  3  2  1  0]\n",
      "[0.02197802 0.06593407 0.06593407 0.02197802 0.12087912 0.1978022\n",
      " 0.15384615 0.17582418 0.06593407 0.08791209 0.02197802]\n",
      "[0.05548493 0.09886488 0.09937488 0.05581493 0.12173985 0.14708982\n",
      " 0.13460983 0.10916611 0.06822741 0.08413489 0.02549247]\n"
     ]
    },
    {
     "data": {
      "image/png": "[encoded data removed]",
      "text/plain": [
       "<Figure size 576x432 with 9 Axes>"
      ]
     },
     "metadata": {
      "needs_background": "light"
     },
     "output_type": "display_data"
    }
   ],
   "source": [
    "ts = DirichletThompsonSampling(contents_ctr = \n",
    "                      [\n",
    "                        [0.1, 0.3, 0.3,0.1,],\n",
    "                        [0.55, 0.9, 0.7],\n",
    "                        [0.8, 0.3, 0.4, 0.1]\n",
    "                      ])\n",
    "ts.run(100000)"
   ]
  },
  {
   "cell_type": "markdown",
   "metadata": {},
   "source": [
    "### Beta TS"
   ]
  },
  {
   "cell_type": "code",
   "execution_count": 3,
   "metadata": {},
   "outputs": [],
   "source": [
    "class BetaThompsonSampling(ThompsonSampling):\n",
    "    def __init__(self, contents_ctr):\n",
    "        super().__init__(contents_ctr)\n",
    "        self.alpha, self.beta = np.ones_like(self.contents_ctr), np.ones_like(self.contents_ctr)\n",
    "\n",
    "    def cluster_decay(self, updated_alpha, updated_beta):\n",
    "        curr_cluster = 0\n",
    "        cluster_decay_factor = pow(10., len(self.cluster_idx))\n",
    "\n",
    "        for item in range(len(updated_alpha)):\n",
    "\n",
    "            if item >= self.cluster_idx[curr_cluster]:\n",
    "                cluster_decay_factor /= 10.\n",
    "                curr_cluster += 1\n",
    "\n",
    "            updated_alpha[item] /= self.time_decays[item] * cluster_decay_factor\n",
    "            updated_beta[item] /= self.time_decays[item] * cluster_decay_factor\n",
    "            \n",
    "        return updated_alpha, updated_beta\n",
    "    \n",
    "    def draw(self, alpha, beta):\n",
    "        score = []\n",
    "        for a,b in zip(alpha, beta):\n",
    "            reward = np.random.beta(a,b)\n",
    "            score.append(reward)\n",
    "            \n",
    "        return np.array(score).argsort()[::-1]\n",
    "            \n",
    "    def updated_arms(self, iteration, topk = 3):\n",
    "        updated_alpha = np.copy(self.alpha)\n",
    "        updated_beta = np.copy(self.beta)\n",
    "        self.cluster_decay(updated_alpha, updated_beta)\n",
    "\n",
    "        res = self.draw(updated_alpha, updated_beta)\n",
    "        for k in range(topk):\n",
    "            self.selected[res[k]] += 1\n",
    "\n",
    "        click = np.random.choice(self.candidates, p = self.norm_contents_ctr)\n",
    "        for item in range(len(self.contents_ctr)):\n",
    "            if item == click:\n",
    "                self.alpha[item] += 1\n",
    "            else:\n",
    "                self.beta[item] += 1\n",
    "\n",
    "        self.time_decay()\n",
    "        \n",
    "        if iteration%10000 == 0:\n",
    "#             print('gt / expexted')\n",
    "#             for gt, a,b in zip(self.contents_ctr, self.alpha, self.beta):\n",
    "#                 print(gt, a/(a+b))\n",
    "            print('topk : ', res)\n",
    "    \n",
    "    def add_new_cluster(self):\n",
    "        candidates = self.cans_ctr.pop(0)\n",
    "        self.contents_ctr = np.concatenate([self.contents_ctr, candidates])\n",
    "        self.alpha = np.concatenate([self.alpha, np.ones_like(candidates)])\n",
    "        self.beta = np.concatenate([self.beta, np.ones_like(candidates)])\n",
    "        self.selected = np.concatenate([self.selected, np.zeros_like(candidates)])\n",
    "        self.candidates = list(range(len(self.contents_ctr)))\n",
    "        self.norm_contents_ctr = self.normalize(self.contents_ctr)\n",
    "        self.cluster_idx.append(len(self.contents_ctr))"
   ]
  },
  {
   "cell_type": "markdown",
   "metadata": {},
   "source": [
    "#### res"
   ]
  },
  {
   "cell_type": "code",
   "execution_count": 4,
   "metadata": {},
   "outputs": [
    {
     "name": "stdout",
     "output_type": "stream",
     "text": [
      "topk :  [2 1 0 3]\n",
      "topk :  [1 3 2 0]\n",
      "topk :  [1 2 0 3]\n",
      "topk :  [2 3 5 4 6 1 0]\n",
      "topk :  [2 6 5 1 4 0 3]\n",
      "topk :  [5 4 6 1 3 2 0]\n",
      "topk :  [ 2  7  5  6 10  9  4  8  3  1  0]\n",
      "topk :  [ 7  4  9  5  6  8 10  3  2  1  0]\n",
      "topk :  [ 5  7  9 10  8  6  4  3  2  1  0]\n",
      "[0.02197802 0.06593407 0.06593407 0.02197802 0.12087912 0.1978022\n",
      " 0.15384615 0.17582418 0.06593407 0.08791209 0.02197802]\n",
      "[0.06833241 0.14205732 0.14398482 0.07082616 0.10965361 0.14450232\n",
      " 0.1228986  0.08132615 0.04362745 0.05640368 0.01638748]\n"
     ]
    },
    {
     "data": {
      "image/png": "[encoded data removed]",
      "text/plain": [
       "<Figure size 576x432 with 9 Axes>"
      ]
     },
     "metadata": {
      "needs_background": "light"
     },
     "output_type": "display_data"
    }
   ],
   "source": [
    "ts_b = BetaThompsonSampling(contents_ctr = \n",
    "                      [\n",
    "                        [0.1, 0.3, 0.3,0.1,],\n",
    "                        [0.55, 0.9, 0.7],\n",
    "                        [0.8, 0.3, 0.4, 0.1]\n",
    "                      ])\n",
    "ts_b.run(100000)"
   ]
  },
  {
   "cell_type": "code",
   "execution_count": 273,
   "metadata": {},
   "outputs": [],
   "source": [
    "# import scipy\n",
    "\n",
    "# x = np.linspace(0, 1, 1002)[1:-1]\n",
    "\n",
    "# for a,b in zip(ts_b.alpha, ts_b.beta):\n",
    "#     dist = scipy.stats.beta(a,b)\n",
    "#     dist_y = dist.pdf(x)\n",
    "#     plt.plot(x,dist_y,label = f'({a},{b})')"
   ]
  }
 ],
 "metadata": {
  "kernelspec": {
   "display_name": "Python 3",
   "language": "python",
   "name": "python3"
  },
  "toc": {
   "base_numbering": 1,
   "nav_menu": {},
   "number_sections": true,
   "sideBar": true,
   "skip_h1_title": false,
   "title_cell": "Table of Contents",
   "title_sidebar": "Contents",
   "toc_cell": false,
   "toc_position": {},
   "toc_section_display": true,
   "toc_window_display": false
  },
  "varInspector": {
   "cols": {
    "lenName": 16,
    "lenType": 16,
    "lenVar": 40
   },
   "kernels_config": {
    "python": {
     "delete_cmd_postfix": "",
     "delete_cmd_prefix": "del ",
     "library": "var_list.py",
     "varRefreshCmd": "print(var_dic_list())"
    },
    "r": {
     "delete_cmd_postfix": ") ",
     "delete_cmd_prefix": "rm(",
     "library": "var_list.r",
     "varRefreshCmd": "cat(var_dic_list()) "
    }
   },
   "types_to_exclude": [
    "module",
    "function",
    "builtin_function_or_method",
    "instance",
    "_Feature"
   ],
   "window_display": false
  }
 },
 "nbformat": 4,
 "nbformat_minor": 2
}
